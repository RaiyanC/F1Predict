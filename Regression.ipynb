{
 "cells": [
  {
   "cell_type": "code",
   "execution_count": 13,
   "metadata": {},
   "outputs": [],
   "source": [
    "#This non-descript folder contains all the standalone python modules\n",
    "from python import *\n",
    "\n",
    "import pickle\n",
    "import os\n",
    "import numpy as np\n",
    "import json\n",
    "from ipyparallel import Client\n",
    "from itertools import repeat\n",
    "\n",
    "from sklearn.linear_model import LinearRegression"
   ]
  },
  {
   "cell_type": "code",
   "execution_count": 14,
   "metadata": {},
   "outputs": [],
   "source": [
    "#Create data classes\n",
    "#Year, Season\n",
    "seasonsData = None\n",
    "#RaceId, List of tuples of (driverId, constructorId, time)\n",
    "qualiResultsData = None\n",
    "#DriverId, name\n",
    "driversData = None\n",
    "#ConstructorId, name\n",
    "constructorsData = None\n",
    "#EngineId, name\n",
    "enginesData = None\n",
    "\n",
    "with open('data/seasonsData.txt', 'rb') as handle:\n",
    "    seasonsData = pickle.load(handle)\n",
    "    #print(seasonsData)\n",
    "    \n",
    "with open('data/qualiResultsData.txt', 'rb') as handle:\n",
    "    qualiResultsData = pickle.load(handle)\n",
    "    #print(qualiResultsData)\n",
    "    \n",
    "with open('data/driversData.txt', 'rb') as handle:\n",
    "    driversData = pickle.load(handle)\n",
    "    #print(driversData)\n",
    "    \n",
    "with open('data/constructorsData.txt', 'rb') as handle:\n",
    "    constructorsData = pickle.load(handle)\n",
    "    #print(constructorsData)\n",
    "    \n",
    "with open('data/enginesData.txt', 'rb') as handle:\n",
    "    enginesData = pickle.load(handle)\n",
    "    #print(enginesData)"
   ]
  },
  {
   "cell_type": "code",
   "execution_count": 15,
   "metadata": {},
   "outputs": [],
   "source": [
    "entries = []\n",
    "results = []\n",
    "cleaner = F1DataCleaner(seasonsData, qualiResultsData, driversData, constructorsData, enginesData)\n",
    "cleaner.constructDataset(entries, results)\n"
   ]
  },
  {
   "cell_type": "code",
   "execution_count": 16,
   "metadata": {},
   "outputs": [],
   "source": [
    "#print(entries)"
   ]
  },
  {
   "cell_type": "code",
   "execution_count": 17,
   "metadata": {},
   "outputs": [],
   "source": [
    "#print(results)"
   ]
  },
  {
   "cell_type": "code",
   "execution_count": 18,
   "metadata": {},
   "outputs": [
    {
     "data": {
      "text/plain": [
       "0.5708053845144507"
      ]
     },
     "execution_count": 18,
     "metadata": {},
     "output_type": "execute_result"
    }
   ],
   "source": [
    "X = np.array(entries)\n",
    "y = results\n",
    "reg = LinearRegression().fit(X, y)\n",
    "reg.score(X, y)"
   ]
  },
  {
   "cell_type": "code",
   "execution_count": 19,
   "metadata": {},
   "outputs": [
    {
     "data": {
      "text/plain": [
       "array([ 0.61836663,  0.67341912,  0.23987154, -0.03143205,  0.04131197,\n",
       "        0.02883261])"
      ]
     },
     "execution_count": 19,
     "metadata": {},
     "output_type": "execute_result"
    }
   ],
   "source": [
    "reg.coef_"
   ]
  },
  {
   "cell_type": "code",
   "execution_count": 20,
   "metadata": {},
   "outputs": [],
   "source": [
    "newDrivers = json.load(open('data/newDrivers.json'))[\"drivers\"]\n",
    "newDrivers = {int(did): cid for did, cid in newDrivers.items()}\n",
    "\n",
    "#print(newDrivers)\n",
    "driversToWrite = {}\n",
    "for did, cid in newDrivers.items():\n",
    "    driversToWrite[int(did)] = {}\n",
    "    driversToWrite[int(did)][\"name\"] = cleaner.drivers[int(did)].name\n",
    "    driversToWrite[int(did)][\"constructor\"] = cleaner.drivers[int(did)].constructor.name\n",
    "with open('../F1PredictWeb/driversDescribe.json', 'w') as fp:\n",
    "    json.dump(driversToWrite, fp)"
   ]
  },
  {
   "cell_type": "code",
   "execution_count": 21,
   "metadata": {},
   "outputs": [],
   "source": [
    "circuit = 32\n",
    "circuitName = \"Mexican\"\n",
    "\n",
    "with open('../F1PredictWeb/circuitName.txt', 'w') as fp:\n",
    "    fp.write(circuitName);"
   ]
  },
  {
   "cell_type": "code",
   "execution_count": 22,
   "metadata": {},
   "outputs": [],
   "source": [
    "predictedEntrants = []\n",
    "\n",
    "for did, cid in newDrivers.items():\n",
    "    if circuit not in cleaner.drivers[did].trackpwr:\n",
    "        cleaner.drivers[did].trackpwr[circuit] = 0 #TODO maybe change defaults\n",
    "    if circuit not in cleaner.drivers[did].constructor.trackpwr:\n",
    "        cleaner.drivers[did].constructor.trackpwr[circuit] = 0 #TODO maybe change defaults\n",
    "    if circuit not in cleaner.drivers[did].constructor.engine.trackpwr:\n",
    "        cleaner.drivers[did].constructor.engine.trackpwr[circuit] = 0 #TODO maybe change defaults\n",
    "    \n",
    "    entry = [\n",
    "        cleaner.drivers[did].pwr,\n",
    "        cleaner.drivers[did].constructor.pwr, \n",
    "        cleaner.drivers[did].constructor.engine.pwr,\n",
    "        cleaner.drivers[did].trackpwr[circuit],\n",
    "        cleaner.drivers[did].constructor.trackpwr[circuit],\n",
    "        cleaner.drivers[did].constructor.engine.trackpwr[circuit]\n",
    "    ]\n",
    "    predictedEntrants.append(entry)\n",
    "    "
   ]
  },
  {
   "cell_type": "code",
   "execution_count": 23,
   "metadata": {},
   "outputs": [
    {
     "name": "stdout",
     "output_type": "stream",
     "text": [
      "[-0.98436805  0.5543021  -0.83821011 -0.84046643 -0.00459675 -0.00817045\n",
      "  0.0938329  -0.56227476 -0.91022585  0.18923159  0.08133336 -0.60592381\n",
      "  0.03019535  0.73196821  0.01964434  0.80432828  0.27918485  0.41780067\n",
      "  0.78661654 -0.16661582]\n"
     ]
    }
   ],
   "source": [
    "predictedResults = reg.predict(np.array(predictedEntrants))\n",
    "print(predictedResults)"
   ]
  },
  {
   "cell_type": "code",
   "execution_count": 24,
   "metadata": {},
   "outputs": [
    {
     "name": "stdout",
     "output_type": "stream",
     "text": [
      "Lewis Hamilton (Mercedes): -0.9843680490254763\n",
      "Fernando Alonso (McLaren): 0.5543020978881295\n",
      "Kimi Räikkönen (Ferrari): -0.8382101090059912\n",
      "Sebastian Vettel (Ferrari): -0.8404664257963677\n",
      "Romain Grosjean (Haas F1 Team): -0.004596748765014015\n",
      "Nico Hülkenberg (Renault): -0.008170448806282576\n",
      "Sergio Pérez (Force India): 0.09383290005784645\n",
      "Daniel Ricciardo (Red Bull): -0.5622747607738894\n",
      "Valtteri Bottas (Mercedes): -0.9102258484605983\n",
      "Kevin Magnussen (Haas F1 Team): 0.18923159316474775\n",
      "Marcus Ericsson (Sauber): 0.08133335537197335\n",
      "Max Verstappen (Red Bull): -0.6059238075075668\n",
      "Carlos Sainz (Renault): 0.030195348870883768\n",
      "Stoffel Vandoorne (McLaren): 0.7319682128461301\n",
      "Esteban Ocon (Force India): 0.019644336814076697\n",
      "Lance Stroll (Williams): 0.8043282810768612\n",
      "Pierre Gasly (Toro Rosso): 0.2791848542406474\n",
      "Brendon Hartley (Toro Rosso): 0.4178006745583349\n",
      "Sergey Sirotkin (Williams): 0.7866165387903942\n",
      "Charles Leclerc (Sauber): -0.16661582373357517\n"
     ]
    }
   ],
   "source": [
    "for index, (did, cid) in enumerate(newDrivers.items()):\n",
    "    print(\"{0} ({1}): {2}\".format(cleaner.drivers[int(did)].name, cleaner.drivers[int(did)].constructor.name, predictedResults[index]))"
   ]
  },
  {
   "cell_type": "code",
   "execution_count": null,
   "metadata": {},
   "outputs": [],
   "source": []
  }
 ],
 "metadata": {
  "kernelspec": {
   "display_name": "Python 3",
   "language": "python",
   "name": "python3"
  },
  "language_info": {
   "codemirror_mode": {
    "name": "ipython",
    "version": 3
   },
   "file_extension": ".py",
   "mimetype": "text/x-python",
   "name": "python",
   "nbconvert_exporter": "python",
   "pygments_lexer": "ipython3",
   "version": "3.7.1"
  }
 },
 "nbformat": 4,
 "nbformat_minor": 2
}
