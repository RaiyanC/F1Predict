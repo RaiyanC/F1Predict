{
 "cells": [
  {
   "cell_type": "code",
   "execution_count": 1,
   "metadata": {},
   "outputs": [],
   "source": [
    "#This non-descript folder contains all the standalone python modules\n",
    "from python import *\n",
    "\n",
    "import pickle\n",
    "import os\n",
    "import numpy as np\n",
    "import json\n",
    "from ipyparallel import Client\n",
    "from itertools import repeat\n",
    "\n",
    "from sklearn.linear_model import LinearRegression"
   ]
  },
  {
   "cell_type": "code",
   "execution_count": 2,
   "metadata": {},
   "outputs": [],
   "source": [
    "#Create data classes\n",
    "#Year, Season\n",
    "seasonsData = None\n",
    "#RaceId, List of tuples of (driverId, constructorId, time)\n",
    "qualiResultsData = None\n",
    "#DriverId, name\n",
    "driversData = None\n",
    "#ConstructorId, name\n",
    "constructorsData = None\n",
    "#EngineId, name\n",
    "enginesData = None\n",
    "\n",
    "with open('data/seasonsData.txt', 'rb') as handle:\n",
    "    seasonsData = pickle.load(handle)\n",
    "    #print(seasonsData)\n",
    "    \n",
    "with open('data/qualiResultsData.txt', 'rb') as handle:\n",
    "    qualiResultsData = pickle.load(handle)\n",
    "    #print(qualiResultsData)\n",
    "    \n",
    "with open('data/driversData.txt', 'rb') as handle:\n",
    "    driversData = pickle.load(handle)\n",
    "    #print(driversData)\n",
    "    \n",
    "with open('data/constructorsData.txt', 'rb') as handle:\n",
    "    constructorsData = pickle.load(handle)\n",
    "    #print(constructorsData)\n",
    "    \n",
    "with open('data/enginesData.txt', 'rb') as handle:\n",
    "    enginesData = pickle.load(handle)\n",
    "    #print(enginesData)"
   ]
  },
  {
   "cell_type": "code",
   "execution_count": 3,
   "metadata": {},
   "outputs": [],
   "source": [
    "entries = []\n",
    "results = []\n",
    "cleaner = F1DataCleaner(seasonsData, qualiResultsData, driversData, constructorsData, enginesData)\n",
    "cleaner.constructDataset(entries, results)\n"
   ]
  },
  {
   "cell_type": "code",
   "execution_count": 4,
   "metadata": {},
   "outputs": [],
   "source": [
    "#print(entries)"
   ]
  },
  {
   "cell_type": "code",
   "execution_count": 5,
   "metadata": {},
   "outputs": [],
   "source": [
    "#print(results)"
   ]
  },
  {
   "cell_type": "code",
   "execution_count": 6,
   "metadata": {},
   "outputs": [
    {
     "data": {
      "text/plain": [
       "0.5675764610255307"
      ]
     },
     "execution_count": 6,
     "metadata": {},
     "output_type": "execute_result"
    }
   ],
   "source": [
    "X = np.array(entries)\n",
    "y = results\n",
    "reg = LinearRegression().fit(X, y)\n",
    "reg.score(X, y)"
   ]
  },
  {
   "cell_type": "code",
   "execution_count": 7,
   "metadata": {},
   "outputs": [
    {
     "data": {
      "text/plain": [
       "array([ 0.62082664,  0.65976944,  0.24903224, -0.02726148,  0.03720545,\n",
       "        0.0282132 ])"
      ]
     },
     "execution_count": 7,
     "metadata": {},
     "output_type": "execute_result"
    }
   ],
   "source": [
    "reg.coef_"
   ]
  },
  {
   "cell_type": "code",
   "execution_count": 8,
   "metadata": {},
   "outputs": [],
   "source": [
    "newDrivers = json.load(open('data/newDrivers.json'))[\"drivers\"]\n",
    "newDrivers = {int(did): cid for did, cid in newDrivers.items()}\n",
    "\n",
    "#print(newDrivers)\n",
    "driversToWrite = {}\n",
    "for did, cid in newDrivers.items():\n",
    "    driversToWrite[int(did)] = {}\n",
    "    driversToWrite[int(did)][\"name\"] = cleaner.drivers[int(did)].name\n",
    "    driversToWrite[int(did)][\"constructor\"] = cleaner.drivers[int(did)].constructor.name\n",
    "with open('../F1PredictWeb/driversDescribe.json', 'w') as fp:\n",
    "    json.dump(driversToWrite, fp)"
   ]
  },
  {
   "cell_type": "code",
   "execution_count": 9,
   "metadata": {},
   "outputs": [],
   "source": [
    "circuit = 32\n",
    "circuitName = \"Mexican\"\n",
    "\n",
    "with open('../F1PredictWeb/circuitName.txt', 'w') as fp:\n",
    "    fp.write(circuitName);"
   ]
  },
  {
   "cell_type": "code",
   "execution_count": 10,
   "metadata": {},
   "outputs": [],
   "source": [
    "predictedEntrants = []\n",
    "\n",
    "for did, cid in newDrivers.items():\n",
    "    if circuit not in cleaner.drivers[did].trackpwr:\n",
    "        cleaner.drivers[did].trackpwr[circuit] = 0 #TODO maybe change defaults\n",
    "    if circuit not in cleaner.drivers[did].constructor.trackpwr:\n",
    "        cleaner.drivers[did].constructor.trackpwr[circuit] = 0 #TODO maybe change defaults\n",
    "    if circuit not in cleaner.drivers[did].constructor.engine.trackpwr:\n",
    "        cleaner.drivers[did].constructor.engine.trackpwr[circuit] = 0 #TODO maybe change defaults\n",
    "    \n",
    "    entry = [\n",
    "        cleaner.drivers[did].pwr,\n",
    "        cleaner.drivers[did].constructor.pwr, \n",
    "        cleaner.drivers[did].constructor.engine.pwr,\n",
    "        cleaner.drivers[did].trackpwr[circuit],\n",
    "        cleaner.drivers[did].constructor.trackpwr[circuit],\n",
    "        cleaner.drivers[did].constructor.engine.trackpwr[circuit]\n",
    "    ]\n",
    "    predictedEntrants.append(entry)\n",
    "    "
   ]
  },
  {
   "cell_type": "code",
   "execution_count": 11,
   "metadata": {},
   "outputs": [
    {
     "name": "stdout",
     "output_type": "stream",
     "text": [
      "[-1.28605545  0.63486466 -0.96937884 -0.9141577  -0.1004001   0.11057089\n",
      " -0.07650451 -0.07394537 -1.23012296  0.03846339  0.4448846  -0.17832158\n",
      "  0.07972213  0.81722756 -0.1181384   0.65767267  0.19593985  0.35102268\n",
      "  0.6427029   0.13602574]\n"
     ]
    }
   ],
   "source": [
    "predictedResults = reg.predict(np.array(predictedEntrants))\n",
    "print(predictedResults)"
   ]
  },
  {
   "cell_type": "code",
   "execution_count": 12,
   "metadata": {},
   "outputs": [
    {
     "name": "stdout",
     "output_type": "stream",
     "text": [
      "Lewis Hamilton (Mercedes): -1.2860554521013903\n",
      "Fernando Alonso (McLaren): 0.6348646575386648\n",
      "Kimi Räikkönen (Ferrari): -0.9693788366216131\n",
      "Sebastian Vettel (Ferrari): -0.914157702941448\n",
      "Romain Grosjean (Haas F1 Team): -0.10040009651517978\n",
      "Nico Hülkenberg (Renault): 0.11057088995105761\n",
      "Sergio Pérez (Force India): -0.07650451430211783\n",
      "Daniel Ricciardo (Red Bull): -0.07394537146309196\n",
      "Valtteri Bottas (Mercedes): -1.2301229557164313\n",
      "Kevin Magnussen (Haas F1 Team): 0.038463385739461876\n",
      "Marcus Ericsson (Sauber): 0.4448845999750889\n",
      "Max Verstappen (Red Bull): -0.1783215845286461\n",
      "Carlos Sainz (Renault): 0.07972213457347989\n",
      "Stoffel Vandoorne (McLaren): 0.8172275554449373\n",
      "Esteban Ocon (Force India): -0.11813839995562328\n",
      "Lance Stroll (Williams): 0.6576726745302944\n",
      "Pierre Gasly (Toro Rosso): 0.195939845727835\n",
      "Brendon Hartley (Toro Rosso): 0.3510226834977975\n",
      "Sergey Sirotkin (Williams): 0.6427028989317789\n",
      "Charles Leclerc (Sauber): 0.13602573908269125\n"
     ]
    }
   ],
   "source": [
    "for index, (did, cid) in enumerate(newDrivers.items()):\n",
    "    print(\"{0} ({1}): {2}\".format(cleaner.drivers[int(did)].name, cleaner.drivers[int(did)].constructor.name, predictedResults[index]))"
   ]
  },
  {
   "cell_type": "code",
   "execution_count": null,
   "metadata": {},
   "outputs": [],
   "source": []
  }
 ],
 "metadata": {
  "kernelspec": {
   "display_name": "Python 3",
   "language": "python",
   "name": "python3"
  },
  "language_info": {
   "codemirror_mode": {
    "name": "ipython",
    "version": 3
   },
   "file_extension": ".py",
   "mimetype": "text/x-python",
   "name": "python",
   "nbconvert_exporter": "python",
   "pygments_lexer": "ipython3",
   "version": "3.7.1"
  }
 },
 "nbformat": 4,
 "nbformat_minor": 2
}
