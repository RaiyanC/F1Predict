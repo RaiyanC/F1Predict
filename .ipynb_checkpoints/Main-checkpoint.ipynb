{
 "cells": [
  {
   "cell_type": "markdown",
   "metadata": {},
   "source": [
    "The main program that uses the database and defined python scripts to run the analysis"
   ]
  },
  {
   "cell_type": "code",
   "execution_count": 1,
   "metadata": {
    "collapsed": true
   },
   "outputs": [],
   "source": [
    "#This non-descript folder contains all the standalone python modules\n",
    "from python import *\n",
    "\n",
    "import pickle\n",
    "import os\n",
    "import numpy as np\n",
    "import json\n",
    "from ipyparallel import Client\n",
    "from itertools import repeat"
   ]
  },
  {
   "cell_type": "code",
   "execution_count": 2,
   "metadata": {
    "collapsed": true,
    "scrolled": true
   },
   "outputs": [],
   "source": [
    "#Create data classes\n",
    "#Year, Season\n",
    "seasonsData = None\n",
    "#RaceId, List of tuples of (driverId, constructorId, time)\n",
    "qualiResultsData = None\n",
    "#DriverId, name\n",
    "driversData = None\n",
    "#ConstructorId, name\n",
    "constructorsData = None\n",
    "#EngineId, name\n",
    "enginesData = None\n",
    "\n",
    "with open('seasonsData.txt', 'rb') as handle:\n",
    "    seasonsData = pickle.load(handle)\n",
    "    #print(seasonsData)\n",
    "    \n",
    "with open('qualiResultsData.txt', 'rb') as handle:\n",
    "    qualiResultsData = pickle.load(handle)\n",
    "    #print(qualiResultsData)\n",
    "    \n",
    "with open('driversData.txt', 'rb') as handle:\n",
    "    driversData = pickle.load(handle)\n",
    "    #print(driversData)\n",
    "    \n",
    "with open('constructorsData.txt', 'rb') as handle:\n",
    "    constructorsData = pickle.load(handle)\n",
    "    #print(constructorsData)\n",
    "    \n",
    "with open('enginesData.txt', 'rb') as handle:\n",
    "    enginesData = pickle.load(handle)\n",
    "    #print(enginesData)"
   ]
  },
  {
   "cell_type": "code",
   "execution_count": null,
   "metadata": {
    "collapsed": true
   },
   "outputs": [],
   "source": [
    "scores = []\n",
    "scores = list(map(runSimulation, range(80), repeat(seasonsData), repeat(qualiResultsData), repeat(driversData), \n",
    "                    repeat(constructorsData), repeat(enginesData)))\n",
    "print(np.median(scores))"
   ]
  },
  {
   "cell_type": "markdown",
   "metadata": {},
   "source": [
    "So, now when the data has been analysed, it's time to use it to predict the next qualification's results! In this simplified version, it will be the Australian GP 2018."
   ]
  },
  {
   "cell_type": "code",
   "execution_count": 3,
   "metadata": {
    "collapsed": true
   },
   "outputs": [],
   "source": [
    "(drivers, constructors, engines) = runSimReturnDrivConstEng(seasonsData, qualiResultsData, \n",
    "                                                            driversData, constructorsData, enginesData)"
   ]
  },
  {
   "cell_type": "code",
   "execution_count": 4,
   "metadata": {
    "collapsed": true
   },
   "outputs": [],
   "source": [
    "newDrivers = json.load(open('newDrivers.json'))[\"drivers\"]\n",
    "#print(newDrivers)\n",
    "\n",
    "driversToWrite = {}\n",
    "for did, cid in newDrivers.items():\n",
    "    driversToWrite[int(did)] = {}\n",
    "    driversToWrite[int(did)][\"name\"] = drivers[int(did)].name\n",
    "    driversToWrite[int(did)][\"constructor\"] = drivers[int(did)].constructor.name\n",
    "with open('driversDescribe.json', 'w') as fp:\n",
    "    json.dump(driversToWrite, fp)"
   ]
  },
  {
   "cell_type": "code",
   "execution_count": null,
   "metadata": {
    "collapsed": true
   },
   "outputs": [],
   "source": [
    "circuit = 4\n",
    "\n",
    "driverResults = {} # {did: {position: amount}}\n",
    "for did, cid in newDrivers.items():\n",
    "    driverResults[int(did)] = {}\n",
    "for i in range(1000):\n",
    "    scoreList = predictQualiResults(circuit, newDrivers, drivers, constructors, engines)\n",
    "    for i, drivRes in enumerate(scoreList):\n",
    "        if i not in driverResults[drivRes[0]]:\n",
    "            driverResults[drivRes[0]][i] = 0\n",
    "        driverResults[drivRes[0]][i] += 1\n",
    "        \n",
    "for did, res in driverResults.items():\n",
    "    print(\"{0} ({1}):\".format(drivers[int(did)].name, drivers[int(did)].constructor.name))\n",
    "    for pos, amount in sorted(res.items(), key=lambda posAmount: posAmount[0]):\n",
    "        print(\"\\t{0}: {1} %\".format(pos + 1, amount / 10.0))\n",
    "        \n",
    "with open('predictions.json', 'w') as fp:\n",
    "    json.dump(driverResults, fp)\n",
    "\n",
    "#for i, res in enumerate(scoreList):\n",
    "    #print(\"{0}: {1} ({2})\".format(i+1, drivers[res[0]].name, drivers[res[0]].constructor.name))        "
   ]
  }
 ],
 "metadata": {
  "kernelspec": {
   "display_name": "Python 3",
   "language": "python",
   "name": "python3"
  },
  "language_info": {
   "codemirror_mode": {
    "name": "ipython",
    "version": 3
   },
   "file_extension": ".py",
   "mimetype": "text/x-python",
   "name": "python",
   "nbconvert_exporter": "python",
   "pygments_lexer": "ipython3",
   "version": "3.6.3"
  }
 },
 "nbformat": 4,
 "nbformat_minor": 2
}
