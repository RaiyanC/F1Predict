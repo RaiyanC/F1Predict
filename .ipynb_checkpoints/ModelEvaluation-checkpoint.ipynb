{
 "cells": [
  {
   "cell_type": "markdown",
   "metadata": {},
   "source": [
    "# This notebook tries to improve how well the model describes the reality by adjusting it's weights"
   ]
  },
  {
   "cell_type": "code",
   "execution_count": 1,
   "metadata": {},
   "outputs": [],
   "source": [
    "from python import *\n",
    "\n",
    "import pickle\n",
    "import os\n",
    "import numpy as np\n",
    "import json\n",
    "from ipyparallel import Client\n",
    "from itertools import repeat\n",
    "\n",
    "from sklearn.linear_model import LinearRegression"
   ]
  },
  {
   "cell_type": "code",
   "execution_count": 2,
   "metadata": {},
   "outputs": [],
   "source": [
    "#Create data classes\n",
    "#Year, Season\n",
    "seasonsData = None\n",
    "#RaceId, List of tuples of (driverId, constructorId, time)\n",
    "qualiResultsData = None\n",
    "#DriverId, name\n",
    "driversData = None\n",
    "#ConstructorId, name\n",
    "constructorsData = None\n",
    "#EngineId, name\n",
    "enginesData = None\n",
    "\n",
    "with open('data/seasonsData.txt', 'rb') as handle:\n",
    "    seasonsData = pickle.load(handle)\n",
    "    #print(seasonsData)\n",
    "    \n",
    "with open('data/qualiResultsData.txt', 'rb') as handle:\n",
    "    qualiResultsData = pickle.load(handle)\n",
    "    #print(qualiResultsData)\n",
    "    \n",
    "with open('data/driversData.txt', 'rb') as handle:\n",
    "    driversData = pickle.load(handle)\n",
    "    #print(driversData)\n",
    "    \n",
    "with open('data/constructorsData.txt', 'rb') as handle:\n",
    "    constructorsData = pickle.load(handle)\n",
    "    #print(constructorsData)\n",
    "    \n",
    "with open('data/enginesData.txt', 'rb') as handle:\n",
    "    enginesData = pickle.load(handle)\n",
    "    #print(enginesData)"
   ]
  },
  {
   "cell_type": "code",
   "execution_count": 84,
   "metadata": {},
   "outputs": [
    {
     "name": "stdout",
     "output_type": "stream",
     "text": [
      "R-score: 0.5596850758704419\n",
      "[0.56036215 0.65289936 0.47147468 0.12989548 0.18743212 1.13906861]\n"
     ]
    }
   ],
   "source": [
    "entries = []\n",
    "results = []\n",
    "cleaner = F1DataCleaner(seasonsData, qualiResultsData, driversData, constructorsData, enginesData)\n",
    "\n",
    "#Constants we can change\n",
    "\n",
    "cleaner.k_engine_change = 0.0187\n",
    "cleaner.k_const_change = 0.22\n",
    "cleaner.k_driver_change = 0.215\n",
    "cleaner.k_eng_impact = 0.50\n",
    "cleaner.k_const_impact = 0.41\n",
    "\n",
    "cleaner.k_rookie_pwr = 0.78\n",
    "#cleaner.k_rookie_variance = 5\n",
    "cleaner.k_race_regress_exp = 0.87  #TODO needs to change!\n",
    "#cleaner.k_variance_multiplier_end = 1.5\n",
    "\n",
    "cleaner.k_eng_regress = 1.04\n",
    "cleaner.k_const_regress = 0.60\n",
    "cleaner.k_driver_regress = 0.66\n",
    "\n",
    "cleaner.constructDataset(entries, results)\n",
    "X = np.array(entries)\n",
    "y = results\n",
    "reg = LinearRegression().fit(X, y)\n",
    "print(\"R-score: \" + str(reg.score(X, y)))\n",
    "print(reg.coef_)"
   ]
  },
  {
   "cell_type": "markdown",
   "metadata": {},
   "source": [
    "# Just for testing!"
   ]
  },
  {
   "cell_type": "code",
   "execution_count": 85,
   "metadata": {},
   "outputs": [],
   "source": [
    "newDrivers = json.load(open('data/newDrivers.json'))[\"drivers\"]\n",
    "newDrivers = {int(did): cid for did, cid in newDrivers.items()}\n",
    "\n",
    "#print(newDrivers)\n",
    "driversToWrite = {}\n",
    "for did, cid in newDrivers.items():\n",
    "    driversToWrite[int(did)] = {}\n",
    "    driversToWrite[int(did)][\"name\"] = cleaner.drivers[int(did)].name\n",
    "    driversToWrite[int(did)][\"constructor\"] = cleaner.drivers[int(did)].constructor.name\n",
    "with open('../F1PredictWeb/driversDescribe.json', 'w') as fp:\n",
    "    json.dump(driversToWrite, fp)"
   ]
  },
  {
   "cell_type": "code",
   "execution_count": 86,
   "metadata": {},
   "outputs": [],
   "source": [
    "circuit = 32\n",
    "circuitName = \"Mexican\"\n",
    "\n",
    "with open('../F1PredictWeb/circuitName.txt', 'w') as fp:\n",
    "    fp.write(circuitName);"
   ]
  },
  {
   "cell_type": "code",
   "execution_count": 87,
   "metadata": {},
   "outputs": [],
   "source": [
    "predictedEntrants = []\n",
    "\n",
    "for did, cid in newDrivers.items():\n",
    "    if circuit not in cleaner.drivers[did].trackpwr:\n",
    "        cleaner.drivers[did].trackpwr[circuit] = 0 #TODO maybe change defaults\n",
    "    if circuit not in cleaner.drivers[did].constructor.trackpwr:\n",
    "        cleaner.drivers[did].constructor.trackpwr[circuit] = 0 #TODO maybe change defaults\n",
    "    if circuit not in cleaner.drivers[did].constructor.engine.trackpwr:\n",
    "        cleaner.drivers[did].constructor.engine.trackpwr[circuit] = 0 #TODO maybe change defaults\n",
    "    \n",
    "    entry = [\n",
    "        cleaner.drivers[did].pwr,\n",
    "        cleaner.drivers[did].constructor.pwr, \n",
    "        cleaner.drivers[did].constructor.engine.pwr,\n",
    "        cleaner.drivers[did].trackpwr[circuit],\n",
    "        cleaner.drivers[did].constructor.trackpwr[circuit],\n",
    "        cleaner.drivers[did].constructor.engine.trackpwr[circuit]\n",
    "    ]\n",
    "    predictedEntrants.append(entry)"
   ]
  },
  {
   "cell_type": "code",
   "execution_count": 88,
   "metadata": {},
   "outputs": [
    {
     "name": "stdout",
     "output_type": "stream",
     "text": [
      "[-0.7495457   0.53934798 -0.56982476 -0.63963265  0.10620088 -0.03671421\n",
      "  0.01555094 -0.54897392 -0.70343831  0.23087053  0.26407274 -0.59307048\n",
      "  0.04590586  0.63611512 -0.02711361  0.59249948  0.22199532  0.29716594\n",
      "  0.57321134  0.10232563]\n"
     ]
    }
   ],
   "source": [
    "predictedResults = reg.predict(np.array(predictedEntrants))\n",
    "print(predictedResults)"
   ]
  },
  {
   "cell_type": "code",
   "execution_count": 89,
   "metadata": {},
   "outputs": [
    {
     "name": "stdout",
     "output_type": "stream",
     "text": [
      "Lewis Hamilton (Mercedes): -0.7495457001791662\n",
      "Fernando Alonso (McLaren): 0.5393479766553524\n",
      "Kimi Räikkönen (Ferrari): -0.5698247569033177\n",
      "Sebastian Vettel (Ferrari): -0.6396326510400968\n",
      "Romain Grosjean (Haas F1 Team): 0.10620088494627467\n",
      "Nico Hülkenberg (Renault): -0.03671421351519229\n",
      "Sergio Pérez (Force India): 0.015550944472340423\n",
      "Daniel Ricciardo (Red Bull): -0.5489739240902347\n",
      "Valtteri Bottas (Mercedes): -0.7034383133526764\n",
      "Kevin Magnussen (Haas F1 Team): 0.23087053008900507\n",
      "Marcus Ericsson (Sauber): 0.26407274385479407\n",
      "Max Verstappen (Red Bull): -0.5930704773340431\n",
      "Carlos Sainz (Renault): 0.04590586098895774\n",
      "Stoffel Vandoorne (McLaren): 0.6361151241250447\n",
      "Esteban Ocon (Force India): -0.027113607372805937\n",
      "Lance Stroll (Williams): 0.5924994767487334\n",
      "Pierre Gasly (Toro Rosso): 0.22199532444231096\n",
      "Brendon Hartley (Toro Rosso): 0.297165943271474\n",
      "Sergey Sirotkin (Williams): 0.5732113436855442\n",
      "Charles Leclerc (Sauber): 0.10232562885135352\n"
     ]
    }
   ],
   "source": [
    "for index, (did, cid) in enumerate(newDrivers.items()):\n",
    "    print(\"{0} ({1}): {2}\".format(cleaner.drivers[int(did)].name, cleaner.drivers[int(did)].constructor.name, predictedResults[index]))"
   ]
  },
  {
   "cell_type": "code",
   "execution_count": null,
   "metadata": {},
   "outputs": [],
   "source": []
  }
 ],
 "metadata": {
  "kernelspec": {
   "display_name": "Python 3",
   "language": "python",
   "name": "python3"
  },
  "language_info": {
   "codemirror_mode": {
    "name": "ipython",
    "version": 3
   },
   "file_extension": ".py",
   "mimetype": "text/x-python",
   "name": "python",
   "nbconvert_exporter": "python",
   "pygments_lexer": "ipython3",
   "version": "3.7.1"
  }
 },
 "nbformat": 4,
 "nbformat_minor": 2
}
