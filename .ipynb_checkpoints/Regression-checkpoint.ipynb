{
 "cells": [
  {
   "cell_type": "code",
   "execution_count": 1,
   "metadata": {},
   "outputs": [],
   "source": [
    "#This non-descript folder contains all the standalone python modules\n",
    "from python import *\n",
    "\n",
    "import pickle\n",
    "import os\n",
    "import numpy as np\n",
    "import json\n",
    "from ipyparallel import Client\n",
    "from itertools import repeat\n",
    "\n",
    "from sklearn.linear_model import LinearRegression"
   ]
  },
  {
   "cell_type": "code",
   "execution_count": 2,
   "metadata": {},
   "outputs": [],
   "source": [
    "#Create data classes\n",
    "#Year, Season\n",
    "seasonsData = None\n",
    "#RaceId, List of tuples of (driverId, constructorId, time)\n",
    "qualiResultsData = None\n",
    "#DriverId, name\n",
    "driversData = None\n",
    "#ConstructorId, name\n",
    "constructorsData = None\n",
    "#EngineId, name\n",
    "enginesData = None\n",
    "\n",
    "with open('data/seasonsData.txt', 'rb') as handle:\n",
    "    seasonsData = pickle.load(handle)\n",
    "    #print(seasonsData)\n",
    "    \n",
    "with open('data/qualiResultsData.txt', 'rb') as handle:\n",
    "    qualiResultsData = pickle.load(handle)\n",
    "    #print(qualiResultsData)\n",
    "    \n",
    "with open('data/driversData.txt', 'rb') as handle:\n",
    "    driversData = pickle.load(handle)\n",
    "    #print(driversData)\n",
    "    \n",
    "with open('data/constructorsData.txt', 'rb') as handle:\n",
    "    constructorsData = pickle.load(handle)\n",
    "    #print(constructorsData)\n",
    "    \n",
    "with open('data/enginesData.txt', 'rb') as handle:\n",
    "    enginesData = pickle.load(handle)\n",
    "    #print(enginesData)"
   ]
  },
  {
   "cell_type": "code",
   "execution_count": 3,
   "metadata": {},
   "outputs": [],
   "source": [
    "entries = []\n",
    "results = []\n",
    "cleaner = F1DataCleaner(seasonsData, qualiResultsData, driversData, constructorsData, enginesData)\n",
    "cleaner.constructDataset(entries, results)\n"
   ]
  },
  {
   "cell_type": "code",
   "execution_count": 4,
   "metadata": {},
   "outputs": [],
   "source": [
    "#print(entries)"
   ]
  },
  {
   "cell_type": "code",
   "execution_count": 5,
   "metadata": {},
   "outputs": [],
   "source": [
    "#print(results)"
   ]
  },
  {
   "cell_type": "code",
   "execution_count": 6,
   "metadata": {},
   "outputs": [
    {
     "data": {
      "text/plain": [
       "0.5332449960080401"
      ]
     },
     "execution_count": 6,
     "metadata": {},
     "output_type": "execute_result"
    }
   ],
   "source": [
    "X = np.array(entries)\n",
    "y = results\n",
    "reg = LinearRegression().fit(X, y)\n",
    "reg.score(X, y)"
   ]
  },
  {
   "cell_type": "code",
   "execution_count": 7,
   "metadata": {},
   "outputs": [
    {
     "data": {
      "text/plain": [
       "array([0.5001015 , 0.69431092, 0.22752174, 0.05163405, 0.01995997,\n",
       "       0.0766309 ])"
      ]
     },
     "execution_count": 7,
     "metadata": {},
     "output_type": "execute_result"
    }
   ],
   "source": [
    "reg.coef_"
   ]
  },
  {
   "cell_type": "code",
   "execution_count": 8,
   "metadata": {},
   "outputs": [],
   "source": [
    "newDrivers = json.load(open('data/newDrivers.json'))[\"drivers\"]\n",
    "newDrivers = {int(did): cid for did, cid in newDrivers.items()}\n",
    "\n",
    "#print(newDrivers)\n",
    "driversToWrite = {}\n",
    "for did, cid in newDrivers.items():\n",
    "    driversToWrite[int(did)] = {}\n",
    "    driversToWrite[int(did)][\"name\"] = cleaner.drivers[int(did)].name\n",
    "    driversToWrite[int(did)][\"constructor\"] = cleaner.drivers[int(did)].constructor.name\n",
    "with open('../F1PredictWeb/driversDescribe.json', 'w') as fp:\n",
    "    json.dump(driversToWrite, fp)"
   ]
  },
  {
   "cell_type": "code",
   "execution_count": 9,
   "metadata": {},
   "outputs": [],
   "source": [
    "circuit = 32\n",
    "circuitName = \"Mexican\"\n",
    "\n",
    "with open('../F1PredictWeb/circuitName.txt', 'w') as fp:\n",
    "    fp.write(circuitName);"
   ]
  },
  {
   "cell_type": "code",
   "execution_count": 10,
   "metadata": {},
   "outputs": [],
   "source": [
    "predictedEntrants = []\n",
    "\n",
    "for did, cid in newDrivers.items():\n",
    "    if circuit not in cleaner.drivers[did].trackpwr:\n",
    "        cleaner.drivers[did].trackpwr[circuit] = 0 #TODO maybe change defaults\n",
    "    if circuit not in cleaner.drivers[did].constructor.trackpwr:\n",
    "        cleaner.drivers[did].constructor.trackpwr[circuit] = 0 #TODO maybe change defaults\n",
    "    if circuit not in cleaner.drivers[did].constructor.engine.trackpwr:\n",
    "        cleaner.drivers[did].constructor.engine.trackpwr[circuit] = 0 #TODO maybe change defaults\n",
    "    \n",
    "    entry = [\n",
    "        cleaner.drivers[did].pwr,\n",
    "        cleaner.drivers[did].constructor.pwr, \n",
    "        cleaner.drivers[did].constructor.engine.pwr,\n",
    "        cleaner.drivers[did].trackpwr[circuit],\n",
    "        cleaner.drivers[did].constructor.trackpwr[circuit],\n",
    "        cleaner.drivers[did].constructor.engine.trackpwr[circuit]\n",
    "    ]\n",
    "    predictedEntrants.append(entry)\n",
    "    "
   ]
  },
  {
   "cell_type": "code",
   "execution_count": 11,
   "metadata": {},
   "outputs": [
    {
     "name": "stdout",
     "output_type": "stream",
     "text": [
      "[-0.88577483  0.6248417  -0.72875366 -0.80748034  0.12237988  0.01091349\n",
      "  0.09513643 -0.59584645 -0.84222885  0.26585496  0.09090101 -0.64822259\n",
      "  0.0692768   0.77222602  0.04036448  0.88138115  0.33105035  0.41332086\n",
      "  0.86900524 -0.08364366]\n"
     ]
    }
   ],
   "source": [
    "predictedResults = reg.predict(np.array(predictedEntrants))\n",
    "print(predictedResults)"
   ]
  },
  {
   "cell_type": "code",
   "execution_count": 12,
   "metadata": {},
   "outputs": [
    {
     "name": "stdout",
     "output_type": "stream",
     "text": [
      "Lewis Hamilton (Mercedes): -0.885774829128364\n",
      "Fernando Alonso (McLaren): 0.6248416953605729\n",
      "Kimi Räikkönen (Ferrari): -0.7287536589868984\n",
      "Sebastian Vettel (Ferrari): -0.807480344910654\n",
      "Romain Grosjean (Haas F1 Team): 0.12237988237482818\n",
      "Nico Hülkenberg (Renault): 0.010913494318269407\n",
      "Sergio Pérez (Force India): 0.09513642677080177\n",
      "Daniel Ricciardo (Red Bull): -0.5958464499351879\n",
      "Valtteri Bottas (Mercedes): -0.8422288534271214\n",
      "Kevin Magnussen (Haas F1 Team): 0.2658549570008741\n",
      "Marcus Ericsson (Sauber): 0.09090101190730607\n",
      "Max Verstappen (Red Bull): -0.6482225888422983\n",
      "Carlos Sainz (Renault): 0.06927680048210672\n",
      "Stoffel Vandoorne (McLaren): 0.7722260247925894\n",
      "Esteban Ocon (Force India): 0.04036448093531082\n",
      "Lance Stroll (Williams): 0.8813811520822745\n",
      "Pierre Gasly (Toro Rosso): 0.3310503474329937\n",
      "Brendon Hartley (Toro Rosso): 0.41332086061968876\n",
      "Sergey Sirotkin (Williams): 0.8690052357924936\n",
      "Charles Leclerc (Sauber): -0.08364365608175711\n"
     ]
    }
   ],
   "source": [
    "for index, (did, cid) in enumerate(newDrivers.items()):\n",
    "    print(\"{0} ({1}): {2}\".format(cleaner.drivers[int(did)].name, cleaner.drivers[int(did)].constructor.name, predictedResults[index]))"
   ]
  },
  {
   "cell_type": "code",
   "execution_count": null,
   "metadata": {},
   "outputs": [],
   "source": []
  }
 ],
 "metadata": {
  "kernelspec": {
   "display_name": "Python 3",
   "language": "python",
   "name": "python3"
  },
  "language_info": {
   "codemirror_mode": {
    "name": "ipython",
    "version": 3
   },
   "file_extension": ".py",
   "mimetype": "text/x-python",
   "name": "python",
   "nbconvert_exporter": "python",
   "pygments_lexer": "ipython3",
   "version": "3.7.1"
  }
 },
 "nbformat": 4,
 "nbformat_minor": 2
}
