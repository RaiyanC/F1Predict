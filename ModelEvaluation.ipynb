{
 "cells": [
  {
   "cell_type": "markdown",
   "metadata": {},
   "source": [
    "# This notebook tries to improve how well the model describes the reality by adjusting it's weights"
   ]
  },
  {
   "cell_type": "code",
   "execution_count": 9,
   "metadata": {},
   "outputs": [],
   "source": [
    "from python import *\n",
    "\n",
    "import pickle\n",
    "import os\n",
    "import numpy as np\n",
    "import json\n",
    "from ipyparallel import Client\n",
    "from itertools import repeat\n",
    "\n",
    "from sklearn.linear_model import LinearRegression"
   ]
  },
  {
   "cell_type": "code",
   "execution_count": 10,
   "metadata": {},
   "outputs": [],
   "source": [
    "#Create data classes\n",
    "#Year, Season\n",
    "seasonsData = None\n",
    "#RaceId, List of tuples of (driverId, constructorId, time)\n",
    "qualiResultsData = None\n",
    "#DriverId, name\n",
    "driversData = None\n",
    "#ConstructorId, name\n",
    "constructorsData = None\n",
    "#EngineId, name\n",
    "enginesData = None\n",
    "\n",
    "with open('data/seasonsData.txt', 'rb') as handle:\n",
    "    seasonsData = pickle.load(handle)\n",
    "    #print(seasonsData)\n",
    "    \n",
    "with open('data/qualiResultsData.txt', 'rb') as handle:\n",
    "    qualiResultsData = pickle.load(handle)\n",
    "    #print(qualiResultsData)\n",
    "    \n",
    "with open('data/driversData.txt', 'rb') as handle:\n",
    "    driversData = pickle.load(handle)\n",
    "    #print(driversData)\n",
    "    \n",
    "with open('data/constructorsData.txt', 'rb') as handle:\n",
    "    constructorsData = pickle.load(handle)\n",
    "    #print(constructorsData)\n",
    "    \n",
    "with open('data/enginesData.txt', 'rb') as handle:\n",
    "    enginesData = pickle.load(handle)\n",
    "    #print(enginesData)"
   ]
  },
  {
   "cell_type": "code",
   "execution_count": 11,
   "metadata": {},
   "outputs": [
    {
     "name": "stdout",
     "output_type": "stream",
     "text": [
      "R-score: 0.5542227642572352\n",
      "[0.431742   0.75239196 0.79366893 0.06124181 0.02870163 0.61714636]\n"
     ]
    }
   ],
   "source": [
    "entries = []\n",
    "results = []\n",
    "cleaner = F1DataCleaner(seasonsData, qualiResultsData, driversData, constructorsData, enginesData)\n",
    "\n",
    "#Constants we can change\n",
    "\n",
    "cleaner.k_engine_change = 0.0185\n",
    "cleaner.k_const_change = 0.27\n",
    "cleaner.k_driver_change = 0.20\n",
    "cleaner.k_track_impact = 0.00\n",
    "cleaner.k_eng_impact = 1.05\n",
    "cleaner.k_const_impact = 0.55\n",
    "\n",
    "cleaner.k_rookie_pwr = 1.15\n",
    "#cleaner.k_rookie_variance = 5\n",
    "cleaner.k_race_regress_exp = 0.87  #TODO needs to change!\n",
    "#cleaner.k_variance_multiplier_end = 1.5\n",
    "\n",
    "cleaner.k_eng_regress = 1.02\n",
    "cleaner.k_const_regress = 0.68\n",
    "cleaner.k_driver_regress = 0.81\n",
    "\n",
    "cleaner.constructDataset(entries, results)\n",
    "X = np.array(entries)\n",
    "y = results\n",
    "reg = LinearRegression().fit(X, y)\n",
    "print(\"R-score: \" + str(reg.score(X, y)))\n",
    "print(reg.coef_)"
   ]
  },
  {
   "cell_type": "markdown",
   "metadata": {},
   "source": [
    "# Just for testing!"
   ]
  },
  {
   "cell_type": "code",
   "execution_count": 12,
   "metadata": {},
   "outputs": [],
   "source": [
    "newDrivers = json.load(open('data/newDrivers.json'))[\"drivers\"]\n",
    "newDrivers = {int(did): cid for did, cid in newDrivers.items()}\n",
    "\n",
    "#print(newDrivers)\n",
    "driversToWrite = {}\n",
    "for did, cid in newDrivers.items():\n",
    "    driversToWrite[int(did)] = {}\n",
    "    driversToWrite[int(did)][\"name\"] = cleaner.drivers[int(did)].name\n",
    "    driversToWrite[int(did)][\"constructor\"] = cleaner.drivers[int(did)].constructor.name\n",
    "with open('../F1PredictWeb/driversDescribe.json', 'w') as fp:\n",
    "    json.dump(driversToWrite, fp)"
   ]
  },
  {
   "cell_type": "code",
   "execution_count": 13,
   "metadata": {},
   "outputs": [],
   "source": [
    "circuit = 32\n",
    "circuitName = \"Mexican\"\n",
    "\n",
    "with open('../F1PredictWeb/circuitName.txt', 'w') as fp:\n",
    "    fp.write(circuitName);"
   ]
  },
  {
   "cell_type": "code",
   "execution_count": 14,
   "metadata": {},
   "outputs": [],
   "source": [
    "predictedEntrants = []\n",
    "\n",
    "for did, cid in newDrivers.items():\n",
    "    if circuit not in cleaner.drivers[did].trackpwr:\n",
    "        cleaner.drivers[did].trackpwr[circuit] = 0 #TODO maybe change defaults\n",
    "    if circuit not in cleaner.drivers[did].constructor.trackpwr:\n",
    "        cleaner.drivers[did].constructor.trackpwr[circuit] = 0 #TODO maybe change defaults\n",
    "    if circuit not in cleaner.drivers[did].constructor.engine.trackpwr:\n",
    "        cleaner.drivers[did].constructor.engine.trackpwr[circuit] = 0 #TODO maybe change defaults\n",
    "    \n",
    "    entry = [\n",
    "        cleaner.drivers[did].pwr,\n",
    "        cleaner.drivers[did].constructor.pwr, \n",
    "        cleaner.drivers[did].constructor.engine.pwr,\n",
    "        cleaner.drivers[did].trackpwr[circuit],\n",
    "        cleaner.drivers[did].constructor.trackpwr[circuit],\n",
    "        cleaner.drivers[did].constructor.engine.trackpwr[circuit]\n",
    "    ]\n",
    "    predictedEntrants.append(entry)"
   ]
  },
  {
   "cell_type": "code",
   "execution_count": 15,
   "metadata": {},
   "outputs": [
    {
     "name": "stdout",
     "output_type": "stream",
     "text": [
      "[-0.79296433  0.59557666 -0.62305606 -0.70177583  0.06443437 -0.01101644\n",
      "  0.03176723 -0.56734114 -0.76144713  0.16912545  0.23330698 -0.61570093\n",
      "  0.05763578  0.69619554 -0.0169378   0.63718626  0.2510923   0.31978631\n",
      "  0.62054619  0.10312566]\n"
     ]
    }
   ],
   "source": [
    "predictedResults = reg.predict(np.array(predictedEntrants))\n",
    "print(predictedResults)"
   ]
  },
  {
   "cell_type": "code",
   "execution_count": 16,
   "metadata": {},
   "outputs": [
    {
     "name": "stdout",
     "output_type": "stream",
     "text": [
      "Lewis Hamilton (Mercedes): -0.792964326832706\n",
      "Fernando Alonso (McLaren): 0.5955766633098303\n",
      "Kimi Räikkönen (Ferrari): -0.6230560583916374\n",
      "Sebastian Vettel (Ferrari): -0.7017758332447384\n",
      "Romain Grosjean (Haas F1 Team): 0.06443437239562107\n",
      "Nico Hülkenberg (Renault): -0.011016439670699797\n",
      "Sergio Pérez (Force India): 0.03176722963145624\n",
      "Daniel Ricciardo (Red Bull): -0.5673411361117916\n",
      "Valtteri Bottas (Mercedes): -0.7614471347249193\n",
      "Kevin Magnussen (Haas F1 Team): 0.16912545028180664\n",
      "Marcus Ericsson (Sauber): 0.23330698155949625\n",
      "Max Verstappen (Red Bull): -0.6157009336723542\n",
      "Carlos Sainz (Renault): 0.05763577958385284\n",
      "Stoffel Vandoorne (McLaren): 0.6961955407309084\n",
      "Esteban Ocon (Force India): -0.01693779563943067\n",
      "Lance Stroll (Williams): 0.6371862643344415\n",
      "Pierre Gasly (Toro Rosso): 0.25109230422836426\n",
      "Brendon Hartley (Toro Rosso): 0.31978630673323327\n",
      "Sergey Sirotkin (Williams): 0.620546190997089\n",
      "Charles Leclerc (Sauber): 0.10312565572587624\n"
     ]
    }
   ],
   "source": [
    "for index, (did, cid) in enumerate(newDrivers.items()):\n",
    "    print(\"{0} ({1}): {2}\".format(cleaner.drivers[int(did)].name, cleaner.drivers[int(did)].constructor.name, predictedResults[index]))"
   ]
  },
  {
   "cell_type": "code",
   "execution_count": null,
   "metadata": {},
   "outputs": [],
   "source": []
  }
 ],
 "metadata": {
  "kernelspec": {
   "display_name": "Python 3",
   "language": "python",
   "name": "python3"
  },
  "language_info": {
   "codemirror_mode": {
    "name": "ipython",
    "version": 3
   },
   "file_extension": ".py",
   "mimetype": "text/x-python",
   "name": "python",
   "nbconvert_exporter": "python",
   "pygments_lexer": "ipython3",
   "version": "3.7.1"
  }
 },
 "nbformat": 4,
 "nbformat_minor": 2
}
