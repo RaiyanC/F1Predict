{
 "cells": [
  {
   "cell_type": "code",
   "execution_count": 1,
   "metadata": {},
   "outputs": [],
   "source": [
    "#This non-descript folder contains all the standalone python modules\n",
    "from python import *\n",
    "\n",
    "import pickle\n",
    "import os\n",
    "import numpy as np\n",
    "import json\n",
    "from ipyparallel import Client\n",
    "from itertools import repeat\n",
    "\n",
    "from sklearn.linear_model import LinearRegression"
   ]
  },
  {
   "cell_type": "code",
   "execution_count": 2,
   "metadata": {},
   "outputs": [],
   "source": [
    "#Create data classes\n",
    "#Year, Season\n",
    "seasonsData = None\n",
    "#RaceId, List of tuples of (driverId, constructorId, time)\n",
    "qualiResultsData = None\n",
    "#DriverId, name\n",
    "driversData = None\n",
    "#ConstructorId, name\n",
    "constructorsData = None\n",
    "#EngineId, name\n",
    "enginesData = None\n",
    "\n",
    "with open('data/seasonsData.txt', 'rb') as handle:\n",
    "    seasonsData = pickle.load(handle)\n",
    "    #print(seasonsData)\n",
    "    \n",
    "with open('data/qualiResultsData.txt', 'rb') as handle:\n",
    "    qualiResultsData = pickle.load(handle)\n",
    "    #print(qualiResultsData)\n",
    "    \n",
    "with open('data/driversData.txt', 'rb') as handle:\n",
    "    driversData = pickle.load(handle)\n",
    "    #print(driversData)\n",
    "    \n",
    "with open('data/constructorsData.txt', 'rb') as handle:\n",
    "    constructorsData = pickle.load(handle)\n",
    "    #print(constructorsData)\n",
    "    \n",
    "with open('data/enginesData.txt', 'rb') as handle:\n",
    "    enginesData = pickle.load(handle)\n",
    "    #print(enginesData)"
   ]
  },
  {
   "cell_type": "code",
   "execution_count": 3,
   "metadata": {},
   "outputs": [],
   "source": [
    "entries = []\n",
    "results = []\n",
    "cleaner = F1DataCleaner(seasonsData, qualiResultsData, driversData, constructorsData, enginesData)\n",
    "cleaner.constructDataset(entries, results)\n"
   ]
  },
  {
   "cell_type": "code",
   "execution_count": 4,
   "metadata": {},
   "outputs": [],
   "source": [
    "#print(entries)"
   ]
  },
  {
   "cell_type": "code",
   "execution_count": 5,
   "metadata": {},
   "outputs": [],
   "source": [
    "#print(results)"
   ]
  },
  {
   "cell_type": "code",
   "execution_count": 6,
   "metadata": {},
   "outputs": [
    {
     "data": {
      "text/plain": [
       "0.5665622944845082"
      ]
     },
     "execution_count": 6,
     "metadata": {},
     "output_type": "execute_result"
    }
   ],
   "source": [
    "X = np.array(entries)\n",
    "y = results\n",
    "reg = LinearRegression().fit(X, y)\n",
    "reg.score(X, y)"
   ]
  },
  {
   "cell_type": "code",
   "execution_count": 7,
   "metadata": {},
   "outputs": [
    {
     "data": {
      "text/plain": [
       "array([ 0.59852202,  0.65566164,  0.24871502, -0.03657039,  0.03692107,\n",
       "        0.02323797])"
      ]
     },
     "execution_count": 7,
     "metadata": {},
     "output_type": "execute_result"
    }
   ],
   "source": [
    "reg.coef_"
   ]
  },
  {
   "cell_type": "code",
   "execution_count": 8,
   "metadata": {},
   "outputs": [],
   "source": [
    "newDrivers = json.load(open('data/newDrivers.json'))[\"drivers\"]\n",
    "newDrivers = {int(did): cid for did, cid in newDrivers.items()}\n",
    "\n",
    "#print(newDrivers)\n",
    "driversToWrite = {}\n",
    "for did, cid in newDrivers.items():\n",
    "    driversToWrite[int(did)] = {}\n",
    "    driversToWrite[int(did)][\"name\"] = cleaner.drivers[int(did)].name\n",
    "    driversToWrite[int(did)][\"constructor\"] = cleaner.drivers[int(did)].constructor.name\n",
    "with open('../F1PredictWeb/driversDescribe.json', 'w') as fp:\n",
    "    json.dump(driversToWrite, fp)"
   ]
  },
  {
   "cell_type": "code",
   "execution_count": 9,
   "metadata": {},
   "outputs": [],
   "source": [
    "circuit = 32\n",
    "circuitName = \"Mexican\"\n",
    "\n",
    "with open('../F1PredictWeb/circuitName.txt', 'w') as fp:\n",
    "    fp.write(circuitName);"
   ]
  },
  {
   "cell_type": "code",
   "execution_count": 10,
   "metadata": {},
   "outputs": [],
   "source": [
    "predictedEntrants = []\n",
    "\n",
    "for did, cid in newDrivers.items():\n",
    "    if circuit not in cleaner.drivers[did].trackpwr:\n",
    "        cleaner.drivers[did].trackpwr[circuit] = 0 #TODO maybe change defaults\n",
    "    if circuit not in cleaner.drivers[did].constructor.trackpwr:\n",
    "        cleaner.drivers[did].constructor.trackpwr[circuit] = 0 #TODO maybe change defaults\n",
    "    if circuit not in cleaner.drivers[did].constructor.engine.trackpwr:\n",
    "        cleaner.drivers[did].constructor.engine.trackpwr[circuit] = 0 #TODO maybe change defaults\n",
    "    \n",
    "    entry = [\n",
    "        cleaner.drivers[did].pwr,\n",
    "        cleaner.drivers[did].constructor.pwr, \n",
    "        cleaner.drivers[did].constructor.engine.pwr,\n",
    "        cleaner.drivers[did].trackpwr[circuit],\n",
    "        cleaner.drivers[did].constructor.trackpwr[circuit],\n",
    "        cleaner.drivers[did].constructor.engine.trackpwr[circuit]\n",
    "    ]\n",
    "    predictedEntrants.append(entry)\n",
    "    "
   ]
  },
  {
   "cell_type": "code",
   "execution_count": 11,
   "metadata": {},
   "outputs": [
    {
     "name": "stdout",
     "output_type": "stream",
     "text": [
      "[-1.3462252   0.64128    -1.03111387 -0.95973793 -0.13685707  0.12061158\n",
      " -0.08399701 -0.05074259 -1.26909349  0.03778865  0.51061142 -0.18614802\n",
      "  0.08502952  0.88276589 -0.13501726  0.67693847  0.18273322  0.39047527\n",
      "  0.6526653   0.10827285]\n"
     ]
    }
   ],
   "source": [
    "predictedResults = reg.predict(np.array(predictedEntrants))\n",
    "print(predictedResults)"
   ]
  },
  {
   "cell_type": "code",
   "execution_count": 12,
   "metadata": {},
   "outputs": [
    {
     "name": "stdout",
     "output_type": "stream",
     "text": [
      "Lewis Hamilton (Mercedes): -1.3462251953946944\n",
      "Fernando Alonso (McLaren): 0.6412799952750861\n",
      "Kimi Räikkönen (Ferrari): -1.0311138673906344\n",
      "Sebastian Vettel (Ferrari): -0.9597379273331874\n",
      "Romain Grosjean (Haas F1 Team): -0.13685706902572803\n",
      "Nico Hülkenberg (Renault): 0.12061158489124733\n",
      "Sergio Pérez (Force India): -0.08399701480664679\n",
      "Daniel Ricciardo (Red Bull): -0.050742592402929075\n",
      "Valtteri Bottas (Mercedes): -1.269093494434733\n",
      "Kevin Magnussen (Haas F1 Team): 0.037788645296608026\n",
      "Marcus Ericsson (Sauber): 0.5106114203283715\n",
      "Max Verstappen (Red Bull): -0.18614802155049587\n",
      "Carlos Sainz (Renault): 0.08502952324226064\n",
      "Stoffel Vandoorne (McLaren): 0.8827658853015418\n",
      "Esteban Ocon (Force India): -0.13501725757467672\n",
      "Lance Stroll (Williams): 0.676938465665694\n",
      "Pierre Gasly (Toro Rosso): 0.18273321694385414\n",
      "Brendon Hartley (Toro Rosso): 0.3904752664749239\n",
      "Sergey Sirotkin (Williams): 0.6526652963784737\n",
      "Charles Leclerc (Sauber): 0.10827285236984464\n"
     ]
    }
   ],
   "source": [
    "for index, (did, cid) in enumerate(newDrivers.items()):\n",
    "    print(\"{0} ({1}): {2}\".format(cleaner.drivers[int(did)].name, cleaner.drivers[int(did)].constructor.name, predictedResults[index]))"
   ]
  },
  {
   "cell_type": "code",
   "execution_count": null,
   "metadata": {},
   "outputs": [],
   "source": []
  }
 ],
 "metadata": {
  "kernelspec": {
   "display_name": "Python 3",
   "language": "python",
   "name": "python3"
  },
  "language_info": {
   "codemirror_mode": {
    "name": "ipython",
    "version": 3
   },
   "file_extension": ".py",
   "mimetype": "text/x-python",
   "name": "python",
   "nbconvert_exporter": "python",
   "pygments_lexer": "ipython3",
   "version": "3.7.1"
  }
 },
 "nbformat": 4,
 "nbformat_minor": 2
}
