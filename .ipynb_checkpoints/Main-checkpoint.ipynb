{
 "cells": [
  {
   "cell_type": "markdown",
   "metadata": {},
   "source": [
    "The main program that uses the database and defined python scripts to run the analysis"
   ]
  },
  {
   "cell_type": "code",
   "execution_count": 1,
   "metadata": {},
   "outputs": [],
   "source": [
    "#This non-descript folder contains all the standalone python modules\n",
    "from python import *\n",
    "\n",
    "import pickle\n",
    "import os\n",
    "import numpy as np\n",
    "import json\n",
    "from ipyparallel import Client\n",
    "from itertools import repeat"
   ]
  },
  {
   "cell_type": "code",
   "execution_count": 2,
   "metadata": {
    "scrolled": true
   },
   "outputs": [],
   "source": [
    "#Create data classes\n",
    "#Year, Season\n",
    "seasonsData = None\n",
    "#RaceId, List of tuples of (driverId, constructorId, time)\n",
    "qualiResultsData = None\n",
    "#DriverId, name\n",
    "driversData = None\n",
    "#ConstructorId, name\n",
    "constructorsData = None\n",
    "#EngineId, name\n",
    "enginesData = None\n",
    "\n",
    "with open('seasonsData.txt', 'rb') as handle:\n",
    "    seasonsData = pickle.load(handle)\n",
    "    #print(seasonsData)\n",
    "    \n",
    "with open('qualiResultsData.txt', 'rb') as handle:\n",
    "    qualiResultsData = pickle.load(handle)\n",
    "    #print(qualiResultsData)\n",
    "    \n",
    "with open('driversData.txt', 'rb') as handle:\n",
    "    driversData = pickle.load(handle)\n",
    "    #print(driversData)\n",
    "    \n",
    "with open('constructorsData.txt', 'rb') as handle:\n",
    "    constructorsData = pickle.load(handle)\n",
    "    #print(constructorsData)\n",
    "    \n",
    "with open('enginesData.txt', 'rb') as handle:\n",
    "    enginesData = pickle.load(handle)\n",
    "    #print(enginesData)"
   ]
  },
  {
   "cell_type": "code",
   "execution_count": 3,
   "metadata": {},
   "outputs": [
    {
     "name": "stdout",
     "output_type": "stream",
     "text": [
      "0.6037499999999999\n"
     ]
    }
   ],
   "source": [
    "scores = []\n",
    "scores = list(map(runSimulation, range(40), repeat(seasonsData), repeat(qualiResultsData), repeat(driversData), \n",
    "                    repeat(constructorsData), repeat(enginesData)))\n",
    "print(np.median(scores))"
   ]
  },
  {
   "cell_type": "markdown",
   "metadata": {},
   "source": [
    "So, now when the data has been analysed, it's time to use it to predict the next qualification's results! In this simplified version, the grand prix is specified by the parameter circuit."
   ]
  },
  {
   "cell_type": "code",
   "execution_count": 4,
   "metadata": {},
   "outputs": [],
   "source": [
    "(drivers, constructors, engines) = runSimReturnDrivConstEng(seasonsData, qualiResultsData, \n",
    "                                                            driversData, constructorsData, enginesData)"
   ]
  },
  {
   "cell_type": "code",
   "execution_count": 5,
   "metadata": {
    "collapsed": true
   },
   "outputs": [],
   "source": [
    "newDrivers = json.load(open('newDrivers.json'))[\"drivers\"]\n",
    "#print(newDrivers)\n",
    "\n",
    "driversToWrite = {}\n",
    "for did, cid in newDrivers.items():\n",
    "    driversToWrite[int(did)] = {}\n",
    "    driversToWrite[int(did)][\"name\"] = drivers[int(did)].name\n",
    "    driversToWrite[int(did)][\"constructor\"] = drivers[int(did)].constructor.name\n",
    "with open('driversDescribe.json', 'w') as fp:\n",
    "    json.dump(driversToWrite, fp)"
   ]
  },
  {
   "cell_type": "code",
   "execution_count": 6,
   "metadata": {},
   "outputs": [
    {
     "name": "stdout",
     "output_type": "stream",
     "text": [
      "Lewis Hamilton (Mercedes):\n",
      "\t3: 100.0 %\n",
      "Fernando Alonso (McLaren):\n",
      "\t12: 100.0 %\n",
      "Kimi Räikkönen (Ferrari):\n",
      "\t2: 100.0 %\n",
      "Sebastian Vettel (Ferrari):\n",
      "\t1: 100.0 %\n",
      "Romain Grosjean (Haas F1 Team):\n",
      "\t13: 100.0 %\n",
      "Nico Hülkenberg (Renault):\n",
      "\t7: 100.0 %\n",
      "Sergio Pérez (Force India):\n",
      "\t8: 100.0 %\n",
      "Daniel Ricciardo (Red Bull):\n",
      "\t5: 100.0 %\n",
      "Valtteri Bottas (Mercedes):\n",
      "\t6: 100.0 %\n",
      "Kevin Magnussen (Haas F1 Team):\n",
      "\t11: 100.0 %\n",
      "Marcus Ericsson (Sauber):\n",
      "\t19: 100.0 %\n",
      "Max Verstappen (Red Bull):\n",
      "\t4: 100.0 %\n",
      "Carlos Sainz (Renault):\n",
      "\t10: 100.0 %\n",
      "Stoffel Vandoorne (McLaren):\n",
      "\t14: 100.0 %\n",
      "Esteban Ocon (Force India):\n",
      "\t9: 100.0 %\n",
      "Lance Stroll (Williams):\n",
      "\t17: 100.0 %\n",
      "Pierre Gasly (Toro Rosso):\n",
      "\t16: 100.0 %\n",
      "Brendon Hartley (Toro Rosso):\n",
      "\t15: 100.0 %\n",
      "Sergey Sirotkin (Williams):\n",
      "\t18: 100.0 %\n",
      "Charles Leclerc (Sauber):\n",
      "\t20: 100.0 %\n"
     ]
    }
   ],
   "source": [
    "circuit = 7\n",
    "\n",
    "driverResults = {} # {did: {position: amount}}\n",
    "for did, cid in newDrivers.items():\n",
    "    driverResults[int(did)] = {}\n",
    "for i in range(1000):\n",
    "    scoreList = predictQualiResults(circuit, newDrivers, drivers, constructors, engines)\n",
    "    for i, drivRes in enumerate(scoreList):\n",
    "        if i not in driverResults[drivRes[0]]:\n",
    "            driverResults[drivRes[0]][i] = 0\n",
    "        driverResults[drivRes[0]][i] += 1\n",
    "        \n",
    "for did, res in driverResults.items():\n",
    "    print(\"{0} ({1}):\".format(drivers[int(did)].name, drivers[int(did)].constructor.name))\n",
    "    for pos, amount in sorted(res.items(), key=lambda posAmount: posAmount[0]):\n",
    "        print(\"\\t{0}: {1} %\".format(pos + 1, amount / 10.0))\n",
    "        \n",
    "with open('predictions.json', 'w') as fp:\n",
    "    json.dump(driverResults, fp)\n",
    "\n",
    "#for i, res in enumerate(scoreList):\n",
    "    #print(\"{0}: {1} ({2})\".format(i+1, drivers[res[0]].name, drivers[res[0]].constructor.name))        "
   ]
  }
 ],
 "metadata": {
  "kernelspec": {
   "display_name": "Python 3",
   "language": "python",
   "name": "python3"
  },
  "language_info": {
   "codemirror_mode": {
    "name": "ipython",
    "version": 3
   },
   "file_extension": ".py",
   "mimetype": "text/x-python",
   "name": "python",
   "nbconvert_exporter": "python",
   "pygments_lexer": "ipython3",
   "version": "3.6.3"
  }
 },
 "nbformat": 4,
 "nbformat_minor": 2
}
