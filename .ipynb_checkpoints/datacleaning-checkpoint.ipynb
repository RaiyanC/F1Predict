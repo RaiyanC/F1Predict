{
 "cells": [
  {
   "cell_type": "markdown",
   "metadata": {},
   "source": [
    "This program takes the data from the database and outputs cleaned versions of it into output files that can be opened by the analysis program"
   ]
  },
  {
   "cell_type": "code",
   "execution_count": 1,
   "metadata": {
    "collapsed": true
   },
   "outputs": [],
   "source": [
    "#import statements\n",
    "\n",
    "#This non-descript folder contains all the standalone python modules\n",
    "from python import *\n",
    "\n",
    "import pymysql\n",
    "import pymysql.cursors\n",
    "import pandas as pd\n",
    "import numpy as np\n",
    "% matplotlib inline\n",
    "import matplotlib.pyplot as plt\n",
    "import pickle"
   ]
  },
  {
   "cell_type": "code",
   "execution_count": 2,
   "metadata": {
    "collapsed": true
   },
   "outputs": [],
   "source": [
    "#Create data classes\n",
    "#Year, Season\n",
    "seasonsData = {}\n",
    "#RaceId, List of tuples of (driverId, constructorId, time)\n",
    "qualiResultsData = {}\n",
    "#DriverId, name\n",
    "driversData = {}\n",
    "#ConstructorId, name\n",
    "constructorsData = {}\n",
    "#EngineId, name\n",
    "enginesData = {}"
   ]
  },
  {
   "cell_type": "code",
   "execution_count": 3,
   "metadata": {
    "collapsed": true
   },
   "outputs": [],
   "source": [
    "#Set up a database connection:\n",
    "connection = pymysql.connect(host='localhost',\n",
    "                             user='root',\n",
    "                             password='default',\n",
    "                             db='f1db',\n",
    "                             charset='utf8',\n",
    "                             cursorclass=pymysql.cursors.DictCursor)\n",
    "try:\n",
    "    with connection.cursor() as cursor:\n",
    "        getDriversData(cursor, driversData)\n",
    "        getConstructorData(cursor, constructorsData)\n",
    "        for x in range(2003, 2019):\n",
    "            addSeason(cursor, seasonsData, qualiResultsData, x)\n",
    "        getEngineData(enginesData)\n",
    "        addEngineToConstructor(seasonsData)\n",
    "        getTeamChangeData(seasonsData)\n",
    "finally:\n",
    "    connection.close()"
   ]
  },
  {
   "cell_type": "code",
   "execution_count": 4,
   "metadata": {
    "collapsed": true
   },
   "outputs": [],
   "source": [
    "with open('seasonsData.txt', 'wb') as out:\n",
    "    pickle.dump(seasonsData, out, protocol=pickle.HIGHEST_PROTOCOL)\n",
    "    \n",
    "with open('qualiResultsData.txt', 'wb') as out:\n",
    "    pickle.dump(qualiResultsData, out, protocol=pickle.HIGHEST_PROTOCOL)\n",
    "    \n",
    "with open('driversData.txt', 'wb') as out:\n",
    "    pickle.dump(driversData, out, protocol=pickle.HIGHEST_PROTOCOL)\n",
    "    \n",
    "with open('constructorsData.txt', 'wb') as out:\n",
    "    pickle.dump(constructorsData, out, protocol=pickle.HIGHEST_PROTOCOL)\n",
    "    \n",
    "with open('enginesData.txt', 'wb') as out:\n",
    "    pickle.dump(enginesData, out, protocol=pickle.HIGHEST_PROTOCOL)"
   ]
  }
 ],
 "metadata": {
  "kernelspec": {
   "display_name": "Python 3",
   "language": "python",
   "name": "python3"
  },
  "language_info": {
   "codemirror_mode": {
    "name": "ipython",
    "version": 3
   },
   "file_extension": ".py",
   "mimetype": "text/x-python",
   "name": "python",
   "nbconvert_exporter": "python",
   "pygments_lexer": "ipython3",
   "version": "3.6.3"
  }
 },
 "nbformat": 4,
 "nbformat_minor": 2
}
